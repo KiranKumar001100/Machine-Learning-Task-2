{
 "cells": [
  {
   "cell_type": "markdown",
   "id": "cbd52cc9",
   "metadata": {},
   "source": [
    "# Q1.\n",
    "Suppose a child psychologist says that the average time that working mothers spend talking to their children is at-least 11 minutes per day. You want to test.\n",
    "\n",
    "You conduct a random sample of 1000 working mothers and find they spend an average of 11.5 minutes per day talking with their children. Assume prior research suggests the population standard deviation is 2.3 minutes.\n",
    "\n",
    "Conduct test with a level of significance of alpha=0.05 "
   ]
  },
  {
   "cell_type": "code",
   "execution_count": 1,
   "id": "d7810eb5",
   "metadata": {},
   "outputs": [],
   "source": [
    "import numpy as np\n",
    "import scipy.stats as stats"
   ]
  },
  {
   "cell_type": "code",
   "execution_count": 2,
   "id": "729000f9",
   "metadata": {},
   "outputs": [],
   "source": [
    "# Null hypothesis (Ho) : µ = 11\n",
    "# Alternative hypothesis (Ha) : µ!= 11"
   ]
  },
  {
   "cell_type": "code",
   "execution_count": 3,
   "id": "e9198373",
   "metadata": {},
   "outputs": [],
   "source": [
    "# Population Mean (µ)\n",
    "pm1 = 11\n",
    "# Sample Mean\n",
    "sm1 = 11.5 \n",
    "# Population Standard Deviation \n",
    "psd1 = 2.3\n",
    "# Sample Size\n",
    "n1 = 1000\n",
    "# level of Significance\n",
    "los1 = 0.05"
   ]
  },
  {
   "cell_type": "code",
   "execution_count": 4,
   "id": "be8cc8a8",
   "metadata": {},
   "outputs": [
    {
     "data": {
      "text/plain": [
       "0.07273238618387272"
      ]
     },
     "execution_count": 4,
     "metadata": {},
     "output_type": "execute_result"
    }
   ],
   "source": [
    "# Standard Error \n",
    "SE1 = psd1/n1**0.5\n",
    "SE1"
   ]
  },
  {
   "cell_type": "code",
   "execution_count": 5,
   "id": "76a7fa2c",
   "metadata": {},
   "outputs": [
    {
     "data": {
      "text/plain": [
       "6.874516652539955"
      ]
     },
     "execution_count": 5,
     "metadata": {},
     "output_type": "execute_result"
    }
   ],
   "source": [
    "# Z Test Statistic\n",
    "Z1 = (sm1 - pm1)/SE1\n",
    "Z1"
   ]
  },
  {
   "cell_type": "code",
   "execution_count": 6,
   "id": "4a9963f1",
   "metadata": {},
   "outputs": [
    {
     "data": {
      "text/plain": [
       "-1.6448536269514729"
      ]
     },
     "execution_count": 6,
     "metadata": {},
     "output_type": "execute_result"
    }
   ],
   "source": [
    "# Critical value\n",
    "CV1 = stats.norm.ppf(los1)\n",
    "CV1"
   ]
  },
  {
   "cell_type": "code",
   "execution_count": 7,
   "id": "a10bf514",
   "metadata": {},
   "outputs": [
    {
     "name": "stdout",
     "output_type": "stream",
     "text": [
      "Reject null hypothesis\n",
      "False : The average time that working mothers spend talking to their children is at-least 11 minutes per day\n"
     ]
    }
   ],
   "source": [
    "# Hypothesis Test\n",
    "if Z1 < CV1:\n",
    "    print('Accept null hypothesis')\n",
    "    print('True : The average time that working mothers spend talking to their children is at-least 11 minutes per day')\n",
    "else:\n",
    "    print('Reject null hypothesis')\n",
    "    print('False : The average time that working mothers spend talking to their children is at-least 11 minutes per day')"
   ]
  },
  {
   "cell_type": "markdown",
   "id": "03a2d25f",
   "metadata": {},
   "source": [
    "# Q2.\n",
    "A coffee shop claims that their average wait time for customers is less than 5 minutes. To test this claim, a sample of 40 customers is taken, and their wait times are recorded. The sample mean wait time is found to be 4.6 minutes with a standard deviation of 0.8 minutes. Perform a hypothesis test at a significance level of 0.05 and determine whether there is enough evidence to support the coffee shop's claim.\n",
    "\n",
    "Perform the hypothesis testing using correct test statistics and appropriate critical value"
   ]
  },
  {
   "cell_type": "code",
   "execution_count": 8,
   "id": "9b67f6ed",
   "metadata": {},
   "outputs": [],
   "source": [
    "# Null hypothesis (Ho) : µ < 5\n",
    "# Alternative hypothesis (Ha) : µ >= 5"
   ]
  },
  {
   "cell_type": "code",
   "execution_count": 9,
   "id": "300bf2ab",
   "metadata": {},
   "outputs": [],
   "source": [
    "# Population Mean (µ)\n",
    "pm2 = 5\n",
    "# Sample Mean\n",
    "sm2 = 4.6\n",
    "# Sample Standard Deviation \n",
    "ssd2 = 0.8\n",
    "# Sample Size\n",
    "n2 = 40\n",
    "# level of Significance\n",
    "los2 = 0.05"
   ]
  },
  {
   "cell_type": "code",
   "execution_count": 10,
   "id": "3e7e6bd9",
   "metadata": {},
   "outputs": [
    {
     "data": {
      "text/plain": [
       "0.12649110640673517"
      ]
     },
     "execution_count": 10,
     "metadata": {},
     "output_type": "execute_result"
    }
   ],
   "source": [
    "# Standard Error \n",
    "SE2 = ssd2/n2**0.5\n",
    "SE2"
   ]
  },
  {
   "cell_type": "code",
   "execution_count": 11,
   "id": "bc9049fd",
   "metadata": {},
   "outputs": [
    {
     "data": {
      "text/plain": [
       "-3.162277660168382"
      ]
     },
     "execution_count": 11,
     "metadata": {},
     "output_type": "execute_result"
    }
   ],
   "source": [
    "# Z Test Statistic\n",
    "Z2 = (sm2 - pm2)/SE2\n",
    "Z2"
   ]
  },
  {
   "cell_type": "code",
   "execution_count": 12,
   "id": "4e482347",
   "metadata": {},
   "outputs": [
    {
     "data": {
      "text/plain": [
       "39"
      ]
     },
     "execution_count": 12,
     "metadata": {},
     "output_type": "execute_result"
    }
   ],
   "source": [
    "# degree of freedom (df)\n",
    "df2 = n2 - 1\n",
    "df2"
   ]
  },
  {
   "cell_type": "code",
   "execution_count": 13,
   "id": "03f092be",
   "metadata": {},
   "outputs": [
    {
     "data": {
      "text/plain": [
       "37.35514637304853"
      ]
     },
     "execution_count": 13,
     "metadata": {},
     "output_type": "execute_result"
    }
   ],
   "source": [
    "# Critical value\n",
    "CV2 = stats.norm.ppf(los2, df2)\n",
    "CV2"
   ]
  },
  {
   "cell_type": "code",
   "execution_count": 14,
   "id": "33f110c7",
   "metadata": {},
   "outputs": [
    {
     "name": "stdout",
     "output_type": "stream",
     "text": [
      "Accept null hypothesis\n",
      "True : The average wait time for customers at coffee shop is less than 5 minutes\n"
     ]
    }
   ],
   "source": [
    "# Hypothesis Test\n",
    "if Z2 < CV2:\n",
    "    print('Accept null hypothesis')\n",
    "    print('True : The average wait time for customers at coffee shop is less than 5 minutes')\n",
    "else:\n",
    "    print('Reject null hypothesis')\n",
    "    print('False : The average wait time for customers at coffee shop is less than 5 minutes')"
   ]
  },
  {
   "cell_type": "code",
   "execution_count": null,
   "id": "b97e79e0",
   "metadata": {},
   "outputs": [],
   "source": []
  }
 ],
 "metadata": {
  "kernelspec": {
   "display_name": "Python 3 (ipykernel)",
   "language": "python",
   "name": "python3"
  },
  "language_info": {
   "codemirror_mode": {
    "name": "ipython",
    "version": 3
   },
   "file_extension": ".py",
   "mimetype": "text/x-python",
   "name": "python",
   "nbconvert_exporter": "python",
   "pygments_lexer": "ipython3",
   "version": "3.10.8"
  }
 },
 "nbformat": 4,
 "nbformat_minor": 5
}
